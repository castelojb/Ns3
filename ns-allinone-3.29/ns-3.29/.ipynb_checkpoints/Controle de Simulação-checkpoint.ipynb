{
 "cells": [
  {
   "cell_type": "markdown",
   "metadata": {},
   "source": [
    "## Bibliotecas Usadas"
   ]
  },
  {
   "cell_type": "code",
   "execution_count": 1,
   "metadata": {},
   "outputs": [],
   "source": [
    "import os\n",
    "import pandas as pd\n",
    "import numpy as np\n",
    "import matplotlib.pyplot as plt"
   ]
  },
  {
   "cell_type": "markdown",
   "metadata": {},
   "source": [
    "## Classe para Executar Script"
   ]
  },
  {
   "cell_type": "code",
   "execution_count": 2,
   "metadata": {},
   "outputs": [],
   "source": [
    "class executarProtocolo:\n",
    "    def __init__(self, arquivo, protocolo, caminho = 'scratch/'):\n",
    "        self.arquivo = arquivo\n",
    "        self.caminho = caminho\n",
    "        self.protocolo = protocolo\n",
    "        \n",
    "    def __call__(self, velocidade, iteracao, script = './waf', comando_script = '--run'):\n",
    "        \n",
    "        comando = script + \" \" + comando_script + \" \" + \"\"\" \"{}{} {} {} {}\" \"\"\".format(self.caminho, \n",
    "                                                                                          self.arquivo, \n",
    "                                                                                          self.protocolo, \n",
    "                                                                                          velocidade, \n",
    "                                                                                      iteracao)        \n",
    "        return os.system(comando)\n",
    "    \n",
    "    \n",
    "    def fit(self, velocidades, unidade='Mbps', npmax=30):\n",
    "        \n",
    "        for velocidade in velocidades:\n",
    "            flag = str(velocidade)+unidade\n",
    "            \n",
    "            for i in range(npmax):\n",
    "                self(flag, str(i))\n",
    "            \n",
    "            print(\"Simulacao da velocidade {} pronta\".format(velocidade))\n",
    "        return 0"
   ]
  },
  {
   "cell_type": "markdown",
   "metadata": {},
   "source": [
    "## Gerando arquivos para as simulações"
   ]
  },
  {
   "cell_type": "code",
   "execution_count": 3,
   "metadata": {},
   "outputs": [],
   "source": [
    "udp = executarProtocolo('Simulacao','Udp')\n",
    "tcp = executarProtocolo('Simulacao','Tcp')"
   ]
  },
  {
   "cell_type": "code",
   "execution_count": 4,
   "metadata": {},
   "outputs": [],
   "source": [
    "#udp.fit(np.arange(5,16,5))\n",
    "#tcp.fit(np.arange(5,16,5)) "
   ]
  },
  {
   "cell_type": "markdown",
   "metadata": {},
   "source": [
    "## Analisando os Arquivos nos Diretórios"
   ]
  },
  {
   "cell_type": "markdown",
   "metadata": {},
   "source": [
    "# Leitor de Arquivo"
   ]
  },
  {
   "cell_type": "code",
   "execution_count": 5,
   "metadata": {},
   "outputs": [],
   "source": [
    "def lerArquivo(caminho):\n",
    "    tag = []\n",
    "    tempo = []\n",
    "    identificacao =[]\n",
    "\n",
    "    with open(caminho, 'r') as file:\n",
    "\n",
    "        for line in file:\n",
    "            info = line.split(' ')\n",
    "\n",
    "            tag.append(info[0])\n",
    "\n",
    "            tempo.append(info[1])\n",
    "\n",
    "            identificacao.append(info[18])\n",
    "\n",
    "    return pd.DataFrame(data = {'tag': tag, 'tempo': tempo, 'id': identificacao})\n",
    "    "
   ]
  },
  {
   "cell_type": "markdown",
   "metadata": {},
   "source": [
    "# Percorrer os Arquivos Gerados"
   ]
  },
  {
   "cell_type": "code",
   "execution_count": 6,
   "metadata": {},
   "outputs": [],
   "source": [
    "def lerPasta(pasta):\n",
    "    df = []\n",
    "    for _, _, arquivos in os.walk(pasta):\n",
    "        \n",
    "        for arquivo in arquivos:\n",
    "            atributos = arquivo.split(\"-\")\n",
    "\n",
    "            dp = lerArquivo(pasta + \"/\" + arquivo)\n",
    "\n",
    "            dp['protocolo'] = atributos[0]\n",
    "\n",
    "            dp['velocidade'] = atributos[2]\n",
    "\n",
    "            dp['iteracao'] = atributos[3].replace('.tr','')\n",
    "\n",
    "            df.append(dp)\n",
    "    return pd.concat(df, ignore_index = True)"
   ]
  },
  {
   "cell_type": "markdown",
   "metadata": {},
   "source": [
    "## Lendo os Diretórios e montando os DataFrames"
   ]
  },
  {
   "cell_type": "code",
   "execution_count": 7,
   "metadata": {},
   "outputs": [],
   "source": [
    "dudp = lerPasta('Udp')\n",
    "dtcp = lerPasta('Tcp')"
   ]
  },
  {
   "cell_type": "markdown",
   "metadata": {},
   "source": [
    "# Mudando o tipo das colunas"
   ]
  },
  {
   "cell_type": "code",
   "execution_count": 8,
   "metadata": {},
   "outputs": [],
   "source": [
    "dudp['id'] = pd.to_numeric(dudp['id'])\n",
    "dudp['iteracao'] = pd.to_numeric(dudp['iteracao'])\n",
    "dudp['tempo'] = pd.to_numeric(dudp['tempo'])\n",
    "\n",
    "dtcp['id'] = pd.to_numeric(dtcp['id'])\n",
    "dtcp['iteracao'] = pd.to_numeric(dtcp['iteracao'])\n",
    "dtcp['tempo'] = pd.to_numeric(dtcp['tempo'])"
   ]
  },
  {
   "cell_type": "markdown",
   "metadata": {},
   "source": [
    "# Função de calculo de tempo e intervalo de confiança"
   ]
  },
  {
   "cell_type": "code",
   "execution_count": 9,
   "metadata": {},
   "outputs": [],
   "source": [
    "def calculoDeTempo(df):\n",
    "    ordem = np.sort(np.array(df['tempo']))\n",
    "    \n",
    "    return abs(ordem[0] - ordem[-1])"
   ]
  },
  {
   "cell_type": "code",
   "execution_count": 10,
   "metadata": {},
   "outputs": [],
   "source": [
    "def calculoDeConfianca(lista_de_tempo):\n",
    "    media = np.mean(lista_de_tempo)\n",
    "\n",
    "    soma = 0\n",
    "\n",
    "    for i in lista_de_tempo:\n",
    "        soma += (media - i)**2\n",
    "\n",
    "    desvio_padrao = np.sqrt(soma/len(lista_de_tempo)) \n",
    "\n",
    "    return 1.95 * desvio_padrao/ np.sqrt(len(lista_de_tempo))\n"
   ]
  },
  {
   "cell_type": "markdown",
   "metadata": {},
   "source": [
    "# Analisando os DataFrames"
   ]
  },
  {
   "cell_type": "code",
   "execution_count": 11,
   "metadata": {},
   "outputs": [],
   "source": [
    "def analisadorDeDataFrame(df):\n",
    "    \n",
    "    velocidadesf = []\n",
    "    tempo_medio = []\n",
    "    pacotes_enviados = []\n",
    "    intervaloC = []\n",
    "    \n",
    "    for velocidade in df['velocidade'].unique():\n",
    "        \n",
    "        temposp = []\n",
    "        pacotesp = []\n",
    "        \n",
    "        for iteracao in df['iteracao'].unique():\n",
    "            \n",
    "            dp = df[(df['velocidade'] == velocidade) & (df['iteracao'] == iteracao)].filter(items= ['tempo', 'id'])\n",
    "            \n",
    "            temposp.append(calculoDeTempo(dp))\n",
    "            \n",
    "            pacotesp.append(len(df['id'].unique()))\n",
    "                        \n",
    "        velocidadesf.append(velocidade) \n",
    "        tempo_medio.append(np.mean(temposp)) \n",
    "        pacotes_enviados.append(np.mean(pacotesp))\n",
    "        intervaloC.append(calculoDeConfianca(temposp))\n",
    "        \n",
    "    return pd.DataFrame(data = {'velocidade': velocidadesf,\n",
    "                               'tempo medio': tempo_medio,\n",
    "                               'pacotes enviados': pacotes_enviados,\n",
    "                               'intervaloC': intervaloC})"
   ]
  },
  {
   "cell_type": "markdown",
   "metadata": {},
   "source": [
    "# Montando o resultado UDP"
   ]
  },
  {
   "cell_type": "code",
   "execution_count": 12,
   "metadata": {},
   "outputs": [],
   "source": [
    "resultado_udp = analisadorDeDataFrame(dudp)"
   ]
  },
  {
   "cell_type": "code",
   "execution_count": 13,
   "metadata": {},
   "outputs": [
    {
     "data": {
      "text/html": [
       "<div>\n",
       "<style scoped>\n",
       "    .dataframe tbody tr th:only-of-type {\n",
       "        vertical-align: middle;\n",
       "    }\n",
       "\n",
       "    .dataframe tbody tr th {\n",
       "        vertical-align: top;\n",
       "    }\n",
       "\n",
       "    .dataframe thead th {\n",
       "        text-align: right;\n",
       "    }\n",
       "</style>\n",
       "<table border=\"1\" class=\"dataframe\">\n",
       "  <thead>\n",
       "    <tr style=\"text-align: right;\">\n",
       "      <th></th>\n",
       "      <th>velocidade</th>\n",
       "      <th>tempo medio</th>\n",
       "      <th>pacotes enviados</th>\n",
       "      <th>intervaloC</th>\n",
       "    </tr>\n",
       "  </thead>\n",
       "  <tbody>\n",
       "    <tr>\n",
       "      <th>0</th>\n",
       "      <td>15Mbps</td>\n",
       "      <td>9.11844</td>\n",
       "      <td>25999.0</td>\n",
       "      <td>0.000000e+00</td>\n",
       "    </tr>\n",
       "    <tr>\n",
       "      <th>1</th>\n",
       "      <td>5Mbps</td>\n",
       "      <td>9.14774</td>\n",
       "      <td>25999.0</td>\n",
       "      <td>0.000000e+00</td>\n",
       "    </tr>\n",
       "    <tr>\n",
       "      <th>2</th>\n",
       "      <td>10Mbps</td>\n",
       "      <td>9.12574</td>\n",
       "      <td>25999.0</td>\n",
       "      <td>6.324180e-16</td>\n",
       "    </tr>\n",
       "  </tbody>\n",
       "</table>\n",
       "</div>"
      ],
      "text/plain": [
       "  velocidade  tempo medio  pacotes enviados    intervaloC\n",
       "0     15Mbps      9.11844           25999.0  0.000000e+00\n",
       "1      5Mbps      9.14774           25999.0  0.000000e+00\n",
       "2     10Mbps      9.12574           25999.0  6.324180e-16"
      ]
     },
     "execution_count": 13,
     "metadata": {},
     "output_type": "execute_result"
    }
   ],
   "source": [
    "resultado_udp"
   ]
  },
  {
   "cell_type": "markdown",
   "metadata": {},
   "source": [
    "# Montando o resultado TCP"
   ]
  },
  {
   "cell_type": "code",
   "execution_count": 14,
   "metadata": {},
   "outputs": [],
   "source": [
    "resultado_tcp = analisadorDeDataFrame(dtcp)"
   ]
  },
  {
   "cell_type": "code",
   "execution_count": 15,
   "metadata": {},
   "outputs": [
    {
     "data": {
      "text/html": [
       "<div>\n",
       "<style scoped>\n",
       "    .dataframe tbody tr th:only-of-type {\n",
       "        vertical-align: middle;\n",
       "    }\n",
       "\n",
       "    .dataframe tbody tr th {\n",
       "        vertical-align: top;\n",
       "    }\n",
       "\n",
       "    .dataframe thead th {\n",
       "        text-align: right;\n",
       "    }\n",
       "</style>\n",
       "<table border=\"1\" class=\"dataframe\">\n",
       "  <thead>\n",
       "    <tr style=\"text-align: right;\">\n",
       "      <th></th>\n",
       "      <th>velocidade</th>\n",
       "      <th>tempo medio</th>\n",
       "      <th>pacotes enviados</th>\n",
       "      <th>intervaloC</th>\n",
       "    </tr>\n",
       "  </thead>\n",
       "  <tbody>\n",
       "    <tr>\n",
       "      <th>0</th>\n",
       "      <td>10Mbps</td>\n",
       "      <td>9.2108</td>\n",
       "      <td>15969.0</td>\n",
       "      <td>6.324180e-16</td>\n",
       "    </tr>\n",
       "    <tr>\n",
       "      <th>1</th>\n",
       "      <td>5Mbps</td>\n",
       "      <td>9.3202</td>\n",
       "      <td>15969.0</td>\n",
       "      <td>0.000000e+00</td>\n",
       "    </tr>\n",
       "    <tr>\n",
       "      <th>2</th>\n",
       "      <td>15Mbps</td>\n",
       "      <td>9.1752</td>\n",
       "      <td>15969.0</td>\n",
       "      <td>0.000000e+00</td>\n",
       "    </tr>\n",
       "  </tbody>\n",
       "</table>\n",
       "</div>"
      ],
      "text/plain": [
       "  velocidade  tempo medio  pacotes enviados    intervaloC\n",
       "0     10Mbps       9.2108           15969.0  6.324180e-16\n",
       "1      5Mbps       9.3202           15969.0  0.000000e+00\n",
       "2     15Mbps       9.1752           15969.0  0.000000e+00"
      ]
     },
     "execution_count": 15,
     "metadata": {},
     "output_type": "execute_result"
    }
   ],
   "source": [
    "resultado_tcp"
   ]
  },
  {
   "cell_type": "markdown",
   "metadata": {},
   "source": [
    "# Plotando Resultados"
   ]
  },
  {
   "cell_type": "markdown",
   "metadata": {},
   "source": [
    "# Velocidade pelo Tempo"
   ]
  },
  {
   "cell_type": "code",
   "execution_count": 16,
   "metadata": {},
   "outputs": [],
   "source": [
    "def plotarVxT(sim1, sim2):\n",
    "    a = sim1.sort_values('tempo medio')\n",
    "    b = sim2.sort_values('tempo medio')\n",
    "    \n",
    "    plt.plot(a['velocidade'], a['tempo medio'],'--o', label = 'Udp')\n",
    "    plt.plot(b['velocidade'], b['tempo medio'],'--^', label = 'Tcp')\n",
    "    \n",
    "    plt.legend(bbox_to_anchor=(1.05, 1), loc='upper left', borderaxespad=0.)\n",
    "    \n",
    "    \n",
    "    plt.title('Velocidade pelo Tempo')\n",
    "    plt.xlabel('velocidade')\n",
    "    plt.ylabel('tempo medio')"
   ]
  },
  {
   "cell_type": "code",
   "execution_count": 17,
   "metadata": {},
   "outputs": [
    {
     "data": {
      "image/png": "[encoded data removed]",
      "text/plain": [
       "<Figure size 432x288 with 1 Axes>"
      ]
     },
     "metadata": {
      "needs_background": "light"
     },
     "output_type": "display_data"
    }
   ],
   "source": [
    "plotarVxT(resultado_udp, resultado_tcp)"
   ]
  },
  {
   "cell_type": "markdown",
   "metadata": {},
   "source": [
    "# Pacotes enviados pela velocidade"
   ]
  },
  {
   "cell_type": "code",
   "execution_count": 18,
   "metadata": {},
   "outputs": [],
   "source": [
    "def eficiencia(sim1, sim2):\n",
    "    a = sim1.sort_values('tempo medio')\n",
    "    b = sim2.sort_values('tempo medio')\n",
    "\n",
    "    plt.bar(a['velocidade'], a['pacotes enviados'], label = 'Udp')\n",
    "    plt.bar(b['velocidade'], b['pacotes enviados'], label = 'Tcp')\n",
    "\n",
    "    plt.legend(bbox_to_anchor=(1.05, 1), loc='upper left', borderaxespad=0.)\n",
    "\n",
    "\n",
    "    plt.title('Eficiencia por velocidade')\n",
    "    plt.xlabel('velocidade')\n",
    "    plt.ylabel('pacotes')"
   ]
  },
  {
   "cell_type": "code",
   "execution_count": 19,
   "metadata": {},
   "outputs": [
    {
     "data": {
      "image/png": "[encoded data removed]",
      "text/plain": [
       "<Figure size 432x288 with 1 Axes>"
      ]
     },
     "metadata": {
      "needs_background": "light"
     },
     "output_type": "display_data"
    }
   ],
   "source": [
    "eficiencia(resultado_udp, resultado_tcp)"
   ]
  }
 ],
 "metadata": {
  "kernelspec": {
   "display_name": "Python 3",
   "language": "python",
   "name": "python3"
  },
  "language_info": {
   "codemirror_mode": {
    "name": "ipython",
    "version": 3
   },
   "file_extension": ".py",
   "mimetype": "text/x-python",
   "name": "python",
   "nbconvert_exporter": "python",
   "pygments_lexer": "ipython3",
   "version": "3.7.3"
  }
 },
 "nbformat": 4,
 "nbformat_minor": 2
}
